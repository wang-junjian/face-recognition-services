{
 "cells": [
  {
   "cell_type": "markdown",
   "metadata": {},
   "source": [
    "# Android的人脸识别库例子"
   ]
  },
  {
   "cell_type": "markdown",
   "metadata": {},
   "source": [
    "## 创建工程 \n",
    "* 创建Android工程：face-recognition-example\n",
    "* 拷贝face-recognition库（face-recognition.jar和libface-recognition.so）到app/libs目录下。"
   ]
  },
  {
   "cell_type": "markdown",
   "metadata": {},
   "source": [
    "## 修改app/build.gradle\n",
    "\n",
    "```json\n",
    "apply plugin: 'com.android.application'\n",
    "\n",
    "android {\n",
    "    compileSdkVersion 26\n",
    "    defaultConfig {\n",
    "        applicationId \"com.wangjunjian.facerecognitionexample\"\n",
    "        minSdkVersion 21\n",
    "        targetSdkVersion 26\n",
    "        versionCode 1\n",
    "        versionName \"1.0\"\n",
    "        testInstrumentationRunner \"android.support.test.runner.AndroidJUnitRunner\"\n",
    "    }\n",
    "    buildTypes {\n",
    "        release {\n",
    "            minifyEnabled false\n",
    "            proguardFiles getDefaultProguardFile('proguard-android.txt'), 'proguard-rules.pro'\n",
    "        }\n",
    "    }\n",
    "    //指定jni库的目录\n",
    "    sourceSets {\n",
    "        main {\n",
    "            jniLibs.srcDirs = ['libs']\n",
    "        }\n",
    "    }\n",
    "}\n",
    "\n",
    "dependencies {\n",
    "    implementation fileTree(dir: 'libs', include: ['*.jar'])\n",
    "    implementation 'com.android.support:appcompat-v7:26.1.0'\n",
    "    implementation 'com.android.support.constraint:constraint-layout:1.1.3'\n",
    "    testImplementation 'junit:junit:4.12'\n",
    "    androidTestImplementation 'com.android.support.test:runner:1.0.2'\n",
    "    androidTestImplementation 'com.android.support.test.espresso:espresso-core:3.0.2'\n",
    "    //添加依赖的库路径\n",
    "    implementation files('libs/face-recognition.jar')\n",
    "}\n",
    "```"
   ]
  },
  {
   "cell_type": "markdown",
   "metadata": {},
   "source": [
    "## 调用jni库\n",
    "\n",
    "```java\n",
    "Rect rect = new Rect();\n",
    "FaceRecognition faceRecognition = new FaceRecognition();\n",
    "faceRecognition.detect(imageFilename, rect);\n",
    "```\n",
    "\n",
    "代码参考：\n",
    "[MainActivity.java](android/face-recognition-example/app/src/main/java/com/wangjunjian/facerecognitionexample/MainActivity.java)　\n",
    "[activity_main.xml](android/face-recognition-example/app/src/main/res/layout/activity_main.xml)"
   ]
  },
  {
   "cell_type": "markdown",
   "metadata": {},
   "source": [
    "## 设置应用权限（存储和相机）\n",
    "\n",
    "代码参考：[AndroidManifest.xml](android/face-recognition-example/app/src/main/AndroidManifest.xml)"
   ]
  },
  {
   "cell_type": "markdown",
   "metadata": {},
   "source": [
    "![](images/face-recognition-example.png)"
   ]
  },
  {
   "cell_type": "markdown",
   "metadata": {},
   "source": [
    "## 参考资料\n",
    "* [face_detection_ex.cpp](http://dlib.net/face_detection_ex.cpp.html)\n",
    "* [android 拍摄预览过程中人脸识别](https://blog.csdn.net/lzan13/article/details/71480654)\n",
    "* [Android移动开发-调用摄像头进行拍照的实现](https://blog.csdn.net/fukaimei/article/details/78144951)\n",
    "* [Dlib+OpenCV交叉编译移植到ARM64-v8平台](https://blog.csdn.net/kaychangeek/article/details/80365320)\n",
    "* [Android Video Streaming Using DatagramSocket setPreviewCallback](https://stackoverflow.com/questions/20494255/android-video-streaming-using-datagramsocket-setpreviewcallback)\n",
    "* [视频播放surfaceView camera，获取预览图像显示setPreviewCallback（）](https://blog.csdn.net/d276031034/article/details/73276495)\n",
    "* [really confused with setPreviewCallback in Android, need advice](https://stackoverflow.com/questions/11544877/really-confused-with-setpreviewcallback-in-android-need-advice)\n",
    "* [How to add an image to the emulator gallery in android studio?](https://stackoverflow.com/questions/29588124/how-to-add-an-image-to-the-emulator-gallery-in-android-studio)\n",
    "* [How to get the path to the lib folder for an installed package](https://stackoverflow.com/questions/2603648/how-to-get-the-path-to-the-lib-folder-for-an-installed-package)\n",
    "* [Android NDK下读取数据文件的方法](https://blog.csdn.net/brandon2015/article/details/50508834)\n",
    "* [Android & JNI how to pass an array of Byte[] data to JNI and get back Byte [] [closed]](https://stackoverflow.com/questions/19628106/android-jni-how-to-pass-an-array-of-byte-data-to-jni-and-get-back-byte)\n",
    "* [How to convert jbyteArray to native char* in jni?](https://stackoverflow.com/questions/8439233/how-to-convert-jbytearray-to-native-char-in-jni)\n",
    "* [JNI Android jbytearray to unsigned char* and viceversa](https://stackoverflow.com/questions/25259095/jni-android-jbytearray-to-unsigned-char-and-viceversa)\n",
    "* [JNI中env->GetByteArrayElements和AndroidBitmap_getInfo的冲突](https://www.cnblogs.com/darkknightzh/p/4318934.html)\n",
    "* [NV21 ByteArray to array2d<rgb_pixel>](https://stackoverflow.com/questions/46152275/nv21-bytearray-to-array2drgb-pixel)\n",
    "* [Confusion on YUV NV21 conversion to RGB](https://stackoverflow.com/questions/12469730/confusion-on-yuv-nv21-conversion-to-rgb?noredirect=1)\n",
    "* [【Android】Android Camera原始帧格式转换 —— 获取Camera图像（一）](https://www.cnblogs.com/raomengyang/p/5426525.html)\n",
    "* [Android 自定义Camera全屏拍照，支持前后摄像头](https://blog.csdn.net/guibao513/article/details/78559975)\n",
    "* [Android: How to save a preview frame as jpeg image?](https://stackoverflow.com/questions/1032258/android-how-to-save-a-preview-frame-as-jpeg-image)\n",
    "* [Allow NV21 frames for face detection](https://github.com/tzutalin/dlib-android/issues/39)\n",
    "* [android - YUV NV12 to RGB conversion with RenderScript](https://stackoverflow.com/questions/43623817/android-yuv-nv12-to-rgb-conversion-with-renderscript)\n",
    "* [How to use ScriptIntrinsicYuvToRGB (converting byte[] yuv to byte[] rgba)](https://stackoverflow.com/questions/20358803/how-to-use-scriptintrinsicyuvtorgb-converting-byte-yuv-to-byte-rgba)\n",
    "* [undefined reference to 'AndroidBitmap_getInfo'](https://blog.csdn.net/wuzuyu365/article/details/53068141)\n",
    "* [android PathClassLoader couldn't find \"libxxx.so\"](https://blog.csdn.net/liranke/article/details/53638053)\n",
    "* [Android Studio 加载 .so库出现couldn't find \"*.so\"](https://blog.csdn.net/u012308229/article/details/54909992)\n",
    "* [Android Studio下jni应用](https://www.cnblogs.com/flyme/p/4431762.html)\n",
    "* [Android Studio查找功能（搜索功能）及快捷键](https://blog.csdn.net/huangxiaominglipeng/article/details/52525996)"
   ]
  }
 ],
 "metadata": {
  "kernelspec": {
   "display_name": "Python 3",
   "language": "python",
   "name": "python3"
  },
  "language_info": {
   "codemirror_mode": {
    "name": "ipython",
    "version": 3
   },
   "file_extension": ".py",
   "mimetype": "text/x-python",
   "name": "python",
   "nbconvert_exporter": "python",
   "pygments_lexer": "ipython3",
   "version": "3.6.4"
  }
 },
 "nbformat": 4,
 "nbformat_minor": 2
}
