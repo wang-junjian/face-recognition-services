{
 "cells": [
  {
   "cell_type": "markdown",
   "metadata": {},
   "source": [
    "# iOS人脸识别库（静态库）"
   ]
  },
  {
   "cell_type": "markdown",
   "metadata": {},
   "source": [
    "## 创建静态库\n",
    "![](images/create_ios_static.png)"
   ]
  },
  {
   "cell_type": "markdown",
   "metadata": {},
   "source": [
    "## dlib库源代码添加到工程\n",
    "* 把dlib拷贝到新建工程目录下"
   ]
  },
  {
   "cell_type": "markdown",
   "metadata": {},
   "source": [
    "## 编译dlib库\n",
    "\n",
    "* 使用Xcode构建dlib工程\n",
    "\n",
    "```bash\n",
    "cd dlib/dlib\n",
    "mkdir build\n",
    "cd build\n",
    "cmake -G Xcode ..\n",
    "```\n",
    "\n",
    "* 打开工程文件dlib.xcodeproj进行配置\n",
    "\n",
    "```\n",
    "TARGETS -> dlib -> Build Settings -> Base SDK = iOS\n",
    "TARGETS -> dlib -> Build Settings -> Build Active Architecture Only = No\n",
    "TARGETS -> dlib -> Build Settings -> Supported Platforms = iOS\n",
    "TARGETS -> dlib -> Build Settings -> Valid Architectures = arm64\n",
    "\n",
    "设置活动的Scheme为dlib，Edit Scheme -> Run -> Build Configuration = Release\n",
    "```\n",
    "\n",
    "* 编译（Product -> Build）\n",
    "\n",
    "```\n",
    "通过设置活动的Scheme，编译设备和模拟器对应的静态库。\n",
    "```\n",
    "\n",
    "* 合并为一个静态库\n",
    "\n",
    "```bash\n",
    "lipo -create Debug-iphoneos/libdlib-ios.a Debug-iphonesimulator/libdlib-ios.a -output libdlib.a\n",
    "```"
   ]
  },
  {
   "cell_type": "markdown",
   "metadata": {},
   "source": [
    "## 拷贝libdlib.a到工程目录下的libs目录"
   ]
  },
  {
   "cell_type": "markdown",
   "metadata": {},
   "source": [
    "## 工程配置\n",
    "\n",
    "```\n",
    "TARGETS -> face-recognition -> Build Settings -> Build Active Architecture Only = No\n",
    "TARGETS -> face-recognition -> Build Settings -> Header Search Paths = dlib/\n",
    "TARGETS -> face-recognition -> Build Settings -> Library Search Paths = libs/\n",
    "\n",
    "TARGETS -> face-recognition -> Build Phases -> Link Binary With Libraries 添加 libdlib.a\n",
    "TARGETS -> face-recognition -> Build Phases -> Copy Files -> Add -> face_recognition.hpp\n",
    "\n",
    "TARGETS -> Add -> Aggregate -> distribution\n",
    "TARGETS -> distribution -> Build Phases -> Add -> New Run Script Phase\n",
    "TARGETS -> distribution -> Build Phases -> Run Script -> Shell 添加 ./build_distribution.sh\n",
    "\n",
    "设置活动的Scheme为distribution，Edit Scheme -> Run -> Build Configuration = Release\n",
    "```"
   ]
  },
  {
   "cell_type": "markdown",
   "metadata": {},
   "source": [
    "## 创建用于自动发布的脚本\n",
    "\n",
    "* 在工程目录下新建脚本文件：build_distribution.sh\n",
    "\n",
    "```bash\n",
    "#!/bin/sh\n",
    "\n",
    "PROJ=${PROJECT_NAME}.xcodeproj\n",
    "LIB_STATIC_NAME=${PROJECT_NAME}     #把项目名改为自己的即可使用\n",
    "DISTRIBUTION_DIR=./distribution     #打包出来的文件的目录\n",
    "\n",
    "IPHONE_OS_DIR=${DISTRIBUTION_DIR}/${CONFIGURATION}-iphoneos\n",
    "IPHONE_SIMULATOR_DIR=${DISTRIBUTION_DIR}/${CONFIGURATION}-iphonesimulator\n",
    "\n",
    "#创建真机库文件目录\n",
    "if [[ ! -d ${IPHONE_OS_DIR} ]]; then\n",
    "mkdir -p ${IPHONE_OS_DIR}\n",
    "fi\n",
    "\n",
    "#创建模拟器库文件目录\n",
    "if [[ ! -d ${IPHONE_SIMULATOR_DIR} ]]; then\n",
    "mkdir -p ${IPHONE_SIMULATOR_DIR}\n",
    "fi\n",
    "\n",
    "\n",
    "#error: error: accessing build database \"/Users/wjj/Library/Developer/Xcode/DerivedData/face-recognition-ardscqnlcsvcvtgjntliogvokvae/Build/Intermediates.noindex/XCBuildData/build.db\": disk I/O error\n",
    "#-UseModernBuildSystem=NO 解决上面的问题（https://stackoverflow.com/questions/51153525/xcode-10-unable-to-attach-db-error）\n",
    "#编译真机库文件\n",
    "xcodebuild -project ${PROJ} \\\n",
    "-scheme ${LIB_STATIC_NAME} \\\n",
    "-configuration ${CONFIGURATION} \\\n",
    "-sdk iphoneos \\\n",
    "-UseModernBuildSystem=NO \\\n",
    "clean \\\n",
    "build \\\n",
    "CONFIGURATION_BUILD_DIR=${IPHONE_OS_DIR}\n",
    "# -archivePath ${IPHONE_OS_DIR}\n",
    "\n",
    "#编译模拟器库文件\n",
    "xcodebuild build -project ${PROJ} \\\n",
    "-scheme ${LIB_STATIC_NAME} \\\n",
    "-configuration ${CONFIGURATION} \\\n",
    "-sdk iphonesimulator \\\n",
    "-UseModernBuildSystem=NO \\\n",
    "clean \\\n",
    "build \\\n",
    "CONFIGURATION_BUILD_DIR=${IPHONE_SIMULATOR_DIR}\n",
    "# -archivePath ${IPHONE_SIMULATOR_DIR}\n",
    "\n",
    "##建立SDK目录\n",
    "SDK_DIR=${DISTRIBUTION_DIR}/${LIB_STATIC_NAME}\n",
    "if [[ -d ${SDK_DIR} ]]; then\n",
    "rm -fR ${SDK_DIR}\n",
    "fi\n",
    "mkdir -p ${SDK_DIR}\n",
    "\n",
    "# 静态库文件\n",
    "LIB_NAME=lib${LIB_STATIC_NAME}.a\n",
    "\n",
    "#合并模拟器文件和真机文件\n",
    "lipo -create ${IPHONE_OS_DIR}/${LIB_NAME} ${IPHONE_SIMULATOR_DIR}/${LIB_NAME} -output ${SDK_DIR}/${LIB_NAME}\n",
    "\n",
    "#拷贝头文件\n",
    "cp -R ${IPHONE_OS_DIR}/include/${LIB_STATIC_NAME}/* ${SDK_DIR}/\n",
    "\n",
    "\n",
    "#打包为zip文件\n",
    "PACKAGE_DATE=`date '+%Y%m%d%H'`\n",
    "\n",
    "pushd ${DISTRIBUTION_DIR}\n",
    "SDK_ZIP_NAME=iOS_${LIB_STATIC_NAME}_${PACKAGE_DATE}_${CONFIGURATION}.zip\n",
    "zip -qr ${SDK_ZIP_NAME} ${LIB_STATIC_NAME}\n",
    "popd ${DISTRIBUTION_DIR}\n",
    "```"
   ]
  },
  {
   "cell_type": "markdown",
   "metadata": {},
   "source": [
    "## 给脚本添加执行权限\n",
    "\n",
    "```bash\n",
    "$ sudo chmod +x build_distribution.sh\n",
    "```"
   ]
  },
  {
   "cell_type": "markdown",
   "metadata": {},
   "source": [
    "## 编译工程"
   ]
  },
  {
   "cell_type": "markdown",
   "metadata": {},
   "source": [
    "## 参考资料\n",
    "* [Cross-compile to static lib (libgcrypt) for use on iOS](https://stackoverflow.com/questions/26812060/cross-compile-to-static-lib-libgcrypt-for-use-on-ios)\n",
    "* [iOS 制作静态库自动编译脚本](https://www.jianshu.com/p/c796fcba1604)\n",
    "* [静态库自动打包合并静态库脚本](https://blog.csdn.net/zxw_xzr/article/details/79217516)\n",
    "* [iOS编译OpenSSL静态库(使用脚本自动编译)](https://www.jianshu.com/p/651513cab181)\n",
    "* [iOS 静态库打包流程简化](https://blog.csdn.net/zhouzhoujianquan/article/details/53192597)\n",
    "* [linux 下shell中if的“-e，-d，-f”是什么意思](https://www.cnblogs.com/senior-engineer/p/6206329.html)\n",
    "* [Linux命令-cp 把整个目录下文件复制到另一个目录](https://blog.csdn.net/sdtvyyb_007/article/details/53423182)\n",
    "* [Compile Collada DOM (c++) for use in iOS](https://stackoverflow.com/questions/30810809/compile-collada-dom-c-for-use-in-ios)\n",
    "* [How to set up CMake to build a library for the iPhone](https://stackoverflow.com/questions/794137/how-to-set-up-cmake-to-build-a-library-for-the-iphone)\n",
    "* [ios-cmake](https://github.com/sheldonth/ios-cmake/blob/master/ios.cmake)\n",
    "* [How to set up CMake to build an app for the iPhone](https://stackoverflow.com/questions/822404/how-to-set-up-cmake-to-build-an-app-for-the-iphone)\n",
    "* [How can I make Cmake use specific compiler and flags when final compilation stage instead of detection?](https://stackoverflow.com/questions/6476203/how-can-i-make-cmake-use-specific-compiler-and-flags-when-final-compilation-stag)\n",
    "* [Xcode7 制作Framework](https://www.cnblogs.com/developer-qin/p/5729250.html)\n",
    "* [iOS framework](http://www.cnblogs.com/developer-qin/p/5691008.html)\n",
    "* [Xcode 6制作动态及静态Framework](http://www.cocoachina.com/ios/20141126/10322.html)\n",
    "* [Xcode 10: unable to attach DB error](https://stackoverflow.com/questions/51153525/xcode-10-unable-to-attach-db-error)\n",
    "* [Xcode 10 beta error while building my project?](https://stackoverflow.com/questions/51562894/xcode-10-beta-error-while-building-my-project)\n",
    "* [用lipo合并模拟器Framework与真机Framework](https://blog.csdn.net/gavin8803/article/details/52103671)\n",
    "* [iOS中的静态库与动态库，区别、制作和使用](http://www.cocoachina.com/ios/20161109/18031.html)\n",
    "* [Xcode7 制作通用的framework，静态库和动态库](https://www.jianshu.com/p/2b04935d6943)"
   ]
  }
 ],
 "metadata": {
  "kernelspec": {
   "display_name": "Python 3",
   "language": "python",
   "name": "python3"
  },
  "language_info": {
   "codemirror_mode": {
    "name": "ipython",
    "version": 3
   },
   "file_extension": ".py",
   "mimetype": "text/x-python",
   "name": "python",
   "nbconvert_exporter": "python",
   "pygments_lexer": "ipython3",
   "version": "3.6.4"
  }
 },
 "nbformat": 4,
 "nbformat_minor": 2
}
